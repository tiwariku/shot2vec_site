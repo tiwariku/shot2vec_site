{
 "cells": [
  {
   "cell_type": "markdown",
   "metadata": {},
   "source": [
    "# shot2vec model notes\n",
    "This notebook summarizes the model development process for the shot2vec website. A predictive text approach is taken with the mapping:\n",
    "\n",
    "*All NHL games* $\\Leftrightarrow$ *corpus*\n",
    "\n",
    "*list of plays from an NHL game* $\\Leftrightarrow$ *document*\n",
    "\n",
    "*serialized representation of a play* $\\Leftrightarrow $ *word*\n",
    "\n",
    "The overall goal of the model is to predict a probability distribution for the next play given the current and previous plays in a given game. This may be done with a recurrent neural network whose input and output spaces are the set of possible plays, and whose output layer has softmax activation (i.e. represents a valid probability distribution).\n",
    "\n",
    "The initial representation of the plays (words) is categorical. \n",
    "Each distinct play (play type, location), corresponds to a distinct one-hot vector in a space whose dimension is the number of distinct plays in the corpus. \n",
    "This basis is readable from a human perspective, and can represent a probability distribution over the set of possible plays (the one-hot, i.e. the Kronoker-delta function, is simply on possible distribution). \n",
    "On the other hand, if the number of possible plays is large (e.g., if spatial information is included with resonable granularity), it may be difficult for a neural network to learn from a game (document) in this representation. \n",
    "The solution to this problem is to create a dense 'embedded' representation of the plays using a variational autoencoder.\n",
    "In the dense embedded basis, a neural network will have an easier time learning patterns from the games (documents).\n",
    "We use Gensim's Word2Vec encoding scheme to learn our embedded basis, and train our own softmax layer to decode back to the categorical basis.\n",
    "These layers are time-distributed, meaning they preform a change of basis on the play vectors which is independent of the time-step (i.e. position within the document).\n",
    "\n",
    "Within the embedded basis, we use a simple two-layer LSTM recurrent neural network. The output of this network is then transformed to the categorical basis using the softmax layer.\n",
    "\n",
    "We compare the performance of this model to a baseline model$-$a 1st order Markov model. Which makes predictions by sampling the emperical distribution of plays following the current play. We find an adjusted$^\\dagger$ **33% validation accuracy for our model**, compared with **19% accuracy for the baseline model**. \n",
    "\n",
    "\n",
    "$^\\dagger$To train the neural network, we had to pad all of the games to the same length with trailing placeholder plays. As a result, roughly 36% of the plays in the corpus are padding plays, which are ~trivially predicted by both the baseline and the RNN model, and are reflected in the validation accuracy reported by ```tensorflow.keras```. To calculate the adjusted accuracies, we remove these plays from the picture under the assumption that they are correctly predicted always by both the baseline and RNN models. This assumption is self-evidently true for the baseline Markov model, and appears to be justified for the RNN. "
   ]
  },
  {
   "cell_type": "markdown",
   "metadata": {},
   "source": [
    "### Load in the corpus and pad to constant sequence length"
   ]
  },
  {
   "cell_type": "markdown",
   "metadata": {},
   "source": [
    "First we will load the corpus in to memory (it's only ~150 MB). We will then pad all of the games to the same length so that we may use batch training."
   ]
  },
  {
   "cell_type": "code",
   "execution_count": 1,
   "metadata": {},
   "outputs": [],
   "source": [
    "from importlib import reload\n",
    "import corpse_maker as cm\n",
    "import data_processing as dp\n",
    "import model_fns as mf"
   ]
  },
  {
   "cell_type": "code",
   "execution_count": 2,
   "metadata": {},
   "outputs": [
    {
     "name": "stdout",
     "output_type": "stream",
     "text": [
      "CPU times: user 1min 31s, sys: 1min 31s, total: 3min 3s\n",
      "Wall time: 3min 13s\n"
     ]
    }
   ],
   "source": [
    "%%time\n",
    "STRIP_FN = cm.strip_name_zone\n",
    "CORPUS = dp.get_corpus(2010, 2018, STRIP_FN)\n",
    "GAME_LEN = 500\n",
    "dp.pad_corpus(CORPUS, game_len=GAME_LEN)"
   ]
  },
  {
   "cell_type": "markdown",
   "metadata": {},
   "source": [
    "### Auto-encoding using gensim's word2vec embedding\n",
    "\n",
    "We will construct the embedding matrix using gensim's word2vec algorithm. The softmax layer may also be trained using an autoencoder structure and the gensim-word2vec embedding matrix. These trained layers may then be used either as untrainable encoding and decoding layers between the initial basis and the embedded basis, or as initial weights for trainable layers with the same purpose."
   ]
  },
  {
   "cell_type": "markdown",
   "metadata": {},
   "source": [
    "#### Train the embedding layer\n",
    "First we train the embedding layer. Gensim's Word2Vec package will return a model where ```wv = model.wv``` is a set of keyed vectors. The keys are the the play strings, sorted in descending order of count, with corresponding zero-origined indices. The values are the embedded representation of the given key (index).\n",
    "\n",
    "    \n",
    "```python\n",
    "wv.vocab[play].index\n",
    "``` \n",
    "is the index of ```play```\n",
    "\n",
    "```python \n",
    "wv.vocab[play].count\n",
    "``` \n",
    "is the number of times ```play``` appears in the corpus\n",
    "\n",
    "```python\n",
    "wv[play]\n",
    "```\n",
    "is the embedded vector representing ```play```\n",
    "\n",
    "```python\n",
    "wv.index2word[index]\n",
    "``` \n",
    "is the ```play``` associated with ```index```\n"
   ]
  },
  {
   "cell_type": "code",
   "execution_count": 3,
   "metadata": {},
   "outputs": [],
   "source": [
    "EMBEDDING_DIM = 20\n",
    "CORPUS_NAME = f'zones_{EMBEDDING_DIM}'"
   ]
  },
  {
   "cell_type": "code",
   "execution_count": 4,
   "metadata": {},
   "outputs": [],
   "source": [
    "#writes the embedding files\n",
    "dp.make_embedding(CORPUS_NAME, CORPUS, EMBEDDING_DIM)"
   ]
  },
  {
   "cell_type": "code",
   "execution_count": 5,
   "metadata": {},
   "outputs": [],
   "source": [
    "import numpy as np\n",
    "from gensim.models import KeyedVectors\n",
    "from tensorflow.keras.utils import to_categorical as one_hot\n",
    "CORPUS_IND = np.load(f'{CORPUS_NAME}.npy')\n",
    "WV = KeyedVectors.load(f'{CORPUS_NAME}.wv')\n",
    "CATAGORICAL_DIM = WV.vectors.shape[0]\n",
    "CORPUS_ONE = one_hot(CORPUS_IND, len(WV.vectors))\n",
    "EMBEDDING_MATRIX = WV.vectors"
   ]
  },
  {
   "cell_type": "markdown",
   "metadata": {},
   "source": [
    "#### Train the softmax decoding layer\n",
    "With the embedding layer quickly calculated, we can train a softmax decoding layer. It's possible that this is unnecessary, and can be done in conjunction with the subsequent hidden layer training, but training one now will provide a sanity check that our embedded representation is minimally lossy, and that it is possible to decode to the original representation. We find a validation accuracy of **.9996** for this autoencoder using a embedding space of dimension 20, suggesting that the embedded representation faithfully encodes almost all of the information about each play."
   ]
  },
  {
   "cell_type": "code",
   "execution_count": 6,
   "metadata": {
    "scrolled": true
   },
   "outputs": [],
   "source": [
    "X_train, X_valid, X_test = dp.tvt_split(CORPUS_IND)\n",
    "y_train = one_hot(X_train, CATAGORICAL_DIM)\n",
    "y_valid = one_hot(X_valid, CATAGORICAL_DIM)\n",
    "y_test = one_hot(X_test, CATAGORICAL_DIM)"
   ]
  },
  {
   "cell_type": "code",
   "execution_count": 7,
   "metadata": {},
   "outputs": [
    {
     "name": "stderr",
     "output_type": "stream",
     "text": [
      "WARNING: Logging before flag parsing goes to stderr.\n",
      "W0814 16:31:54.762890 4652467648 deprecation.py:506] From /Users/tiwariku/environments/shot2vec/lib/python3.7/site-packages/tensorflow/python/keras/initializers.py:119: calling RandomUniform.__init__ (from tensorflow.python.ops.init_ops) with dtype is deprecated and will be removed in a future version.\n",
      "Instructions for updating:\n",
      "Call initializer instance with the dtype argument instead of passing it to the constructor\n",
      "W0814 16:31:54.782175 4652467648 deprecation.py:506] From /Users/tiwariku/environments/shot2vec/lib/python3.7/site-packages/tensorflow/python/ops/init_ops.py:1251: calling VarianceScaling.__init__ (from tensorflow.python.ops.init_ops) with dtype is deprecated and will be removed in a future version.\n",
      "Instructions for updating:\n",
      "Call initializer instance with the dtype argument instead of passing it to the constructor\n",
      "W0814 16:31:55.039746 4652467648 deprecation.py:323] From /Users/tiwariku/environments/shot2vec/lib/python3.7/site-packages/tensorflow/python/ops/math_grad.py:1250: add_dispatch_support.<locals>.wrapper (from tensorflow.python.ops.array_ops) is deprecated and will be removed in a future version.\n",
      "Instructions for updating:\n",
      "Use tf.where in 2.0, which has the same broadcast rule as np.where\n"
     ]
    },
    {
     "name": "stdout",
     "output_type": "stream",
     "text": [
      "Train on 6187 samples, validate on 2062 samples\n",
      "Epoch 1/50\n",
      "6187/6187 [==============================] - 5s 802us/sample - loss: 5.5352 - acc: 0.0783 - val_loss: 4.2657 - val_acc: 0.1321\n",
      "Epoch 2/50\n",
      "6187/6187 [==============================] - 5s 788us/sample - loss: 3.2135 - acc: 0.2200 - val_loss: 2.3193 - val_acc: 0.6054\n",
      "Epoch 3/50\n",
      "6187/6187 [==============================] - 5s 767us/sample - loss: 2.0224 - acc: 0.6086 - val_loss: 1.8272 - val_acc: 0.6074\n",
      "Epoch 4/50\n",
      "6187/6187 [==============================] - 5s 783us/sample - loss: 1.6936 - acc: 0.6125 - val_loss: 1.5760 - val_acc: 0.6338\n",
      "Epoch 5/50\n",
      "6187/6187 [==============================] - 5s 779us/sample - loss: 1.4742 - acc: 0.6392 - val_loss: 1.3842 - val_acc: 0.6394\n",
      "Epoch 6/50\n",
      "6187/6187 [==============================] - 5s 843us/sample - loss: 1.3051 - acc: 0.6738 - val_loss: 1.2378 - val_acc: 0.7389\n",
      "Epoch 7/50\n",
      "6187/6187 [==============================] - 5s 803us/sample - loss: 1.1782 - acc: 0.7649 - val_loss: 1.1269 - val_acc: 0.7847\n",
      "Epoch 8/50\n",
      "6187/6187 [==============================] - 5s 785us/sample - loss: 1.0783 - acc: 0.7984 - val_loss: 1.0365 - val_acc: 0.8175\n",
      "Epoch 9/50\n",
      "6187/6187 [==============================] - 5s 755us/sample - loss: 0.9956 - acc: 0.8181 - val_loss: 0.9605 - val_acc: 0.8237\n",
      "Epoch 10/50\n",
      "6187/6187 [==============================] - 5s 763us/sample - loss: 0.9254 - acc: 0.8238 - val_loss: 0.8955 - val_acc: 0.8237\n",
      "Epoch 11/50\n",
      "6187/6187 [==============================] - 5s 763us/sample - loss: 0.8650 - acc: 0.8241 - val_loss: 0.8391 - val_acc: 0.8262\n",
      "Epoch 12/50\n",
      "6187/6187 [==============================] - 5s 759us/sample - loss: 0.8123 - acc: 0.8263 - val_loss: 0.7897 - val_acc: 0.8262\n",
      "Epoch 13/50\n",
      "6187/6187 [==============================] - 5s 749us/sample - loss: 0.7660 - acc: 0.8263 - val_loss: 0.7460 - val_acc: 0.8262\n",
      "Epoch 14/50\n",
      "6187/6187 [==============================] - 5s 754us/sample - loss: 0.7249 - acc: 0.8323 - val_loss: 0.7072 - val_acc: 0.8337\n",
      "Epoch 15/50\n",
      "6187/6187 [==============================] - 5s 761us/sample - loss: 0.6882 - acc: 0.8338 - val_loss: 0.6724 - val_acc: 0.8337\n",
      "Epoch 16/50\n",
      "6187/6187 [==============================] - 5s 752us/sample - loss: 0.6552 - acc: 0.8463 - val_loss: 0.6409 - val_acc: 0.8487\n",
      "Epoch 17/50\n",
      "6187/6187 [==============================] - 5s 748us/sample - loss: 0.6253 - acc: 0.8605 - val_loss: 0.6123 - val_acc: 0.8769\n",
      "Epoch 18/50\n",
      "6187/6187 [==============================] - 5s 757us/sample - loss: 0.5979 - acc: 0.8789 - val_loss: 0.5860 - val_acc: 0.8810\n",
      "Epoch 19/50\n",
      "6187/6187 [==============================] - 5s 750us/sample - loss: 0.5727 - acc: 0.9059 - val_loss: 0.5617 - val_acc: 0.9269\n",
      "Epoch 20/50\n",
      "6187/6187 [==============================] - 5s 732us/sample - loss: 0.5494 - acc: 0.9268 - val_loss: 0.5392 - val_acc: 0.9269\n",
      "Epoch 21/50\n",
      "6187/6187 [==============================] - 5s 729us/sample - loss: 0.5277 - acc: 0.9268 - val_loss: 0.5182 - val_acc: 0.9269\n",
      "Epoch 22/50\n",
      "6187/6187 [==============================] - 5s 728us/sample - loss: 0.5074 - acc: 0.9268 - val_loss: 0.4985 - val_acc: 0.9269\n",
      "Epoch 23/50\n",
      "6187/6187 [==============================] - 4s 724us/sample - loss: 0.4884 - acc: 0.9268 - val_loss: 0.4801 - val_acc: 0.9269\n",
      "Epoch 24/50\n",
      "6187/6187 [==============================] - 4s 725us/sample - loss: 0.4705 - acc: 0.9274 - val_loss: 0.4627 - val_acc: 0.9301\n",
      "Epoch 25/50\n",
      "6187/6187 [==============================] - 4s 727us/sample - loss: 0.4536 - acc: 0.9301 - val_loss: 0.4463 - val_acc: 0.9301\n",
      "Epoch 26/50\n",
      "6187/6187 [==============================] - 5s 733us/sample - loss: 0.4377 - acc: 0.9370 - val_loss: 0.4307 - val_acc: 0.9517\n",
      "Epoch 27/50\n",
      "6187/6187 [==============================] - 5s 727us/sample - loss: 0.4226 - acc: 0.9515 - val_loss: 0.4160 - val_acc: 0.9517\n",
      "Epoch 28/50\n",
      "6187/6187 [==============================] - 5s 727us/sample - loss: 0.4083 - acc: 0.9526 - val_loss: 0.4021 - val_acc: 0.9575\n",
      "Epoch 29/50\n",
      "6187/6187 [==============================] - 5s 727us/sample - loss: 0.3948 - acc: 0.9574 - val_loss: 0.3889 - val_acc: 0.9575\n",
      "Epoch 30/50\n",
      "6187/6187 [==============================] - 5s 730us/sample - loss: 0.3819 - acc: 0.9584 - val_loss: 0.3763 - val_acc: 0.9679\n",
      "Epoch 31/50\n",
      "6187/6187 [==============================] - 5s 728us/sample - loss: 0.3697 - acc: 0.9681 - val_loss: 0.3643 - val_acc: 0.9679\n",
      "Epoch 32/50\n",
      "6187/6187 [==============================] - 5s 733us/sample - loss: 0.3580 - acc: 0.9681 - val_loss: 0.3530 - val_acc: 0.9679\n",
      "Epoch 33/50\n",
      "6187/6187 [==============================] - 5s 729us/sample - loss: 0.3470 - acc: 0.9681 - val_loss: 0.3422 - val_acc: 0.9679\n",
      "Epoch 34/50\n",
      "6187/6187 [==============================] - 4s 727us/sample - loss: 0.3364 - acc: 0.9681 - val_loss: 0.3319 - val_acc: 0.9679\n",
      "Epoch 35/50\n",
      "6187/6187 [==============================] - 5s 731us/sample - loss: 0.3264 - acc: 0.9681 - val_loss: 0.3221 - val_acc: 0.9679\n",
      "Epoch 36/50\n",
      "6187/6187 [==============================] - 5s 730us/sample - loss: 0.3169 - acc: 0.9681 - val_loss: 0.3128 - val_acc: 0.9679\n",
      "Epoch 37/50\n",
      "6187/6187 [==============================] - 5s 734us/sample - loss: 0.3078 - acc: 0.9681 - val_loss: 0.3040 - val_acc: 0.9679\n",
      "Epoch 38/50\n",
      "6187/6187 [==============================] - 5s 731us/sample - loss: 0.2992 - acc: 0.9681 - val_loss: 0.2955 - val_acc: 0.9679\n",
      "Epoch 39/50\n",
      "6187/6187 [==============================] - 5s 732us/sample - loss: 0.2910 - acc: 0.9681 - val_loss: 0.2875 - val_acc: 0.9679\n",
      "Epoch 40/50\n",
      "6187/6187 [==============================] - 4s 727us/sample - loss: 0.2831 - acc: 0.9681 - val_loss: 0.2798 - val_acc: 0.9679\n",
      "Epoch 41/50\n",
      "6187/6187 [==============================] - 5s 729us/sample - loss: 0.2756 - acc: 0.9681 - val_loss: 0.2724 - val_acc: 0.9679\n",
      "Epoch 42/50\n",
      "6187/6187 [==============================] - 5s 733us/sample - loss: 0.2684 - acc: 0.9681 - val_loss: 0.2654 - val_acc: 0.9679\n",
      "Epoch 43/50\n",
      "6187/6187 [==============================] - 5s 729us/sample - loss: 0.2615 - acc: 0.9681 - val_loss: 0.2587 - val_acc: 0.9679\n",
      "Epoch 44/50\n",
      "6187/6187 [==============================] - 5s 729us/sample - loss: 0.2550 - acc: 0.9681 - val_loss: 0.2522 - val_acc: 0.9679\n",
      "Epoch 45/50\n",
      "6187/6187 [==============================] - 5s 737us/sample - loss: 0.2487 - acc: 0.9780 - val_loss: 0.2461 - val_acc: 0.9962\n",
      "Epoch 46/50\n",
      "6187/6187 [==============================] - 5s 734us/sample - loss: 0.2426 - acc: 0.9962 - val_loss: 0.2401 - val_acc: 0.9962\n",
      "Epoch 47/50\n",
      "6187/6187 [==============================] - 5s 731us/sample - loss: 0.2368 - acc: 0.9962 - val_loss: 0.2345 - val_acc: 0.9962\n",
      "Epoch 48/50\n",
      "6187/6187 [==============================] - 5s 730us/sample - loss: 0.2313 - acc: 0.9963 - val_loss: 0.2290 - val_acc: 0.9969\n",
      "Epoch 49/50\n",
      "6187/6187 [==============================] - 5s 729us/sample - loss: 0.2259 - acc: 0.9969 - val_loss: 0.2237 - val_acc: 0.9969\n",
      "Epoch 50/50\n",
      "6187/6187 [==============================] - 5s 731us/sample - loss: 0.2208 - acc: 0.9969 - val_loss: 0.2187 - val_acc: 0.9969\n",
      "CPU times: user 18min 12s, sys: 2min 7s, total: 20min 19s\n",
      "Wall time: 3min 51s\n"
     ]
    }
   ],
   "source": [
    "%%time\n",
    "BATCH_SIZE = 200\n",
    "NUM_EPOCHS = 50\n",
    "AUTO_ENC = mf.make_decoder_model(EMBEDDING_MATRIX)\n",
    "AUTO_ENC_HIST = AUTO_ENC.fit(X_train,\n",
    "                             y_train,\n",
    "                             epochs=NUM_EPOCHS,\n",
    "                             batch_size=BATCH_SIZE,\n",
    "                             validation_data=[X_valid, y_valid],\n",
    "                            )\n",
    "softy = AUTO_ENC.layers[1]\n",
    "np.save(f'{CORPUS_NAME}_softmax', softy.get_weights())"
   ]
  },
  {
   "cell_type": "code",
   "execution_count": 10,
   "metadata": {},
   "outputs": [
    {
     "data": {
      "image/png": "[encoded data removed]",
      "text/plain": [
       "<Figure size 432x288 with 2 Axes>"
      ]
     },
     "metadata": {
      "needs_background": "light"
     },
     "output_type": "display_data"
    }
   ],
   "source": [
    "plot_training_summary(AUTO_ENC_HIST)"
   ]
  },
  {
   "cell_type": "code",
   "execution_count": 13,
   "metadata": {},
   "outputs": [
    {
     "data": {
      "text/plain": [
       "<matplotlib.collections.QuadMesh at 0x13c5cabe0>"
      ]
     },
     "execution_count": 13,
     "metadata": {},
     "output_type": "execute_result"
    },
    {
     "data": {
      "image/png": "[encoded data removed]",
      "text/plain": [
       "<Figure size 432x288 with 1 Axes>"
      ]
     },
     "metadata": {
      "needs_background": "light"
     },
     "output_type": "display_data"
    }
   ],
   "source": [
    "from tensorflow.keras.layers import Embedding, Dense\n",
    "from tensorflow import keras \n",
    "\n",
    "emb_test = Embedding(CATAGORICAL_DIM,\n",
    "                     EMBEDDING_DIM,\n",
    "                     weights = [EMBEDDING_MATRIX],\n",
    "                     trainable=False)\n",
    "soft_test = Dense(CATAGORICAL_DIM,\n",
    "                  weights=softy.get_weights(),\n",
    "                  trainable=False,\n",
    "                  activation='softmax')\n",
    "test_model = keras.models.Sequential()\n",
    "test_model.add(emb_test)\n",
    "test_model.add(soft_test)\n",
    "game = np.array([np.linspace(0, CATAGORICAL_DIM-1,CATAGORICAL_DIM),])\n",
    "plt.pcolormesh((test_model.predict(game))[0])"
   ]
  },
  {
   "cell_type": "markdown",
   "metadata": {},
   "source": [
    "### Recurrent neural network model\n",
    "Now that we know our embedded representation is not super lossy, we can move on to train a predictive. Our goal will be to forecast the next play given the current and previous plays. We will do this using two LSTM layers, sandwiched between our autoencoding layers, which will work in the embedded representation."
   ]
  },
  {
   "cell_type": "code",
   "execution_count": 14,
   "metadata": {},
   "outputs": [],
   "source": [
    "#this cell resets \n",
    "import tensorflow as tf\n",
    "from tensorflow.core.protobuf import rewriter_config_pb2\n",
    "from tensorflow.keras.backend import set_session\n",
    "tf.keras.backend.clear_session()  # For easy reset of notebook state.\n",
    "\n",
    "config_proto = tf.ConfigProto()\n",
    "off = rewriter_config_pb2.RewriterConfig.OFF\n",
    "config_proto.graph_options.rewrite_options.arithmetic_optimization = off\n",
    "session = tf.Session(config=config_proto)\n",
    "set_session(session)"
   ]
  },
  {
   "cell_type": "code",
   "execution_count": 15,
   "metadata": {},
   "outputs": [
    {
     "name": "stdout",
     "output_type": "stream",
     "text": [
      "CPU times: user 189 ms, sys: 209 ms, total: 398 ms\n",
      "Wall time: 396 ms\n"
     ]
    }
   ],
   "source": [
    "%%time\n",
    "BATCH_SIZE = 400\n",
    "NUM_STEPS = len(CORPUS_IND[0])-1\n",
    "NUM_EPOCHS = 50\n",
    "SOFTMAX_WEIGHTS = np.load(f'{CORPUS_NAME}_softmax.npy',\n",
    "                          allow_pickle=True)\n",
    "\n",
    "X_train, X_valid, _ = dp.tvt_split(CORPUS_IND)\n",
    "y_train = one_hot(X_train, CATAGORICAL_DIM)\n",
    "y_valid = one_hot(X_valid, CATAGORICAL_DIM)\n",
    "\n",
    "# the length must be divisible by the batch size\n",
    "train_len = len(X_train)//BATCH_SIZE*BATCH_SIZE\n",
    "valid_len = len(X_valid)//BATCH_SIZE*BATCH_SIZE\n",
    "\n",
    "# offset the targets from the inputs by one play\n",
    "X_train = X_train[:train_len,:-1]\n",
    "X_valid = X_valid[:valid_len,:-1]\n",
    "y_train = y_train[:train_len,1:]\n",
    "y_valid = y_valid[:valid_len,1:]"
   ]
  },
  {
   "cell_type": "code",
   "execution_count": null,
   "metadata": {},
   "outputs": [],
   "source": [
    "#load the saved softmax weights. This might not be necessary\n",
    "SOFTMAX_WEIGHTS = np.load(f'{CORPUS_NAME}_softmax.npy',\n",
    "                          allow_pickle=True)\n",
    "\n",
    "RNN_MODEL = mf.make_rnn_training_model(embedding_matrix=EMBEDDING_MATRIX,\n",
    "                            softmax_weights=SOFTMAX_WEIGHTS,\n",
    "                            batch_size=BATCH_SIZE,\n",
    "                            num_steps=NUM_STEPS,\n",
    "                            train_softmax=False,\n",
    "                            train_embedding=False,)\n",
    "\n",
    "RNN_HIST = RNN_MODEL.fit(X_train,\n",
    "                         y_train,\n",
    "                         epochs=NUM_EPOCHS,\n",
    "                         batch_size=BATCH_SIZE,\n",
    "                         validation_data=[X_valid, y_valid],)"
   ]
  },
  {
   "cell_type": "code",
   "execution_count": null,
   "metadata": {
    "scrolled": true
   },
   "outputs": [],
   "source": [
    "plot_training_summary(RNN_HIST)"
   ]
  },
  {
   "cell_type": "code",
   "execution_count": 18,
   "metadata": {},
   "outputs": [
    {
     "name": "stdout",
     "output_type": "stream",
     "text": [
      "Train on 6000 samples, validate on 2000 samples\n",
      "Epoch 1/100\n",
      "6000/6000 [==============================] - 17s 3ms/sample - loss: 3.8213 - acc: 0.0512 - val_loss: 3.6487 - val_acc: 0.0517\n",
      "Epoch 2/100\n",
      "6000/6000 [==============================] - 16s 3ms/sample - loss: 3.4797 - acc: 0.2898 - val_loss: 3.2965 - val_acc: 0.4121\n",
      "Epoch 3/100\n",
      "6000/6000 [==============================] - 16s 3ms/sample - loss: 3.1452 - acc: 0.4150 - val_loss: 2.9775 - val_acc: 0.4145\n",
      "Epoch 4/100\n",
      "6000/6000 [==============================] - 16s 3ms/sample - loss: 2.8281 - acc: 0.4181 - val_loss: 2.6646 - val_acc: 0.4478\n",
      "Epoch 5/100\n",
      "6000/6000 [==============================] - 16s 3ms/sample - loss: 2.5228 - acc: 0.4547 - val_loss: 2.3823 - val_acc: 0.4533\n",
      "Epoch 6/100\n",
      "6000/6000 [==============================] - 16s 3ms/sample - loss: 2.2852 - acc: 0.4567 - val_loss: 2.2061 - val_acc: 0.4557\n",
      "Epoch 7/100\n",
      "6000/6000 [==============================] - 16s 3ms/sample - loss: 2.1518 - acc: 0.4584 - val_loss: 2.1118 - val_acc: 0.4579\n",
      "Epoch 8/100\n",
      "6000/6000 [==============================] - 16s 3ms/sample - loss: 2.0796 - acc: 0.4602 - val_loss: 2.0586 - val_acc: 0.4584\n",
      "Epoch 9/100\n",
      "6000/6000 [==============================] - 16s 3ms/sample - loss: 2.0363 - acc: 0.4607 - val_loss: 2.0247 - val_acc: 0.4594\n",
      "Epoch 10/100\n",
      "6000/6000 [==============================] - 16s 3ms/sample - loss: 2.0073 - acc: 0.4623 - val_loss: 2.0004 - val_acc: 0.4606\n",
      "Epoch 11/100\n",
      "6000/6000 [==============================] - 17s 3ms/sample - loss: 1.9856 - acc: 0.4627 - val_loss: 1.9813 - val_acc: 0.4607\n",
      "Epoch 12/100\n",
      "6000/6000 [==============================] - 16s 3ms/sample - loss: 1.9682 - acc: 0.4627 - val_loss: 1.9656 - val_acc: 0.4607\n",
      "Epoch 13/100\n",
      "6000/6000 [==============================] - 16s 3ms/sample - loss: 1.9533 - acc: 0.4628 - val_loss: 1.9513 - val_acc: 0.4609\n",
      "Epoch 14/100\n",
      "6000/6000 [==============================] - 17s 3ms/sample - loss: 1.9394 - acc: 0.4630 - val_loss: 1.9378 - val_acc: 0.4609\n",
      "Epoch 15/100\n",
      "6000/6000 [==============================] - 17s 3ms/sample - loss: 1.9261 - acc: 0.4630 - val_loss: 1.9247 - val_acc: 0.4609\n",
      "Epoch 16/100\n",
      "6000/6000 [==============================] - 17s 3ms/sample - loss: 1.9128 - acc: 0.4630 - val_loss: 1.9109 - val_acc: 0.4610\n",
      "Epoch 17/100\n",
      "6000/6000 [==============================] - 17s 3ms/sample - loss: 1.8985 - acc: 0.4630 - val_loss: 1.8958 - val_acc: 0.4610\n",
      "Epoch 18/100\n",
      "6000/6000 [==============================] - 17s 3ms/sample - loss: 1.8826 - acc: 0.4630 - val_loss: 1.8790 - val_acc: 0.4610\n",
      "Epoch 19/100\n",
      "6000/6000 [==============================] - 18s 3ms/sample - loss: 1.8650 - acc: 0.4630 - val_loss: 1.8606 - val_acc: 0.4610\n",
      "Epoch 20/100\n",
      "6000/6000 [==============================] - 18s 3ms/sample - loss: 1.8460 - acc: 0.4630 - val_loss: 1.8410 - val_acc: 0.4610\n",
      "Epoch 21/100\n",
      "6000/6000 [==============================] - 22s 4ms/sample - loss: 1.8261 - acc: 0.4634 - val_loss: 1.8205 - val_acc: 0.4619\n",
      "Epoch 22/100\n",
      "6000/6000 [==============================] - 22s 4ms/sample - loss: 1.8052 - acc: 0.4757 - val_loss: 1.7992 - val_acc: 0.4851\n",
      "Epoch 23/100\n",
      "6000/6000 [==============================] - 21s 3ms/sample - loss: 1.7838 - acc: 0.4963 - val_loss: 1.7779 - val_acc: 0.5052\n",
      "Epoch 24/100\n",
      "6000/6000 [==============================] - 22s 4ms/sample - loss: 1.7626 - acc: 0.5169 - val_loss: 1.7566 - val_acc: 0.5244\n",
      "Epoch 25/100\n",
      "6000/6000 [==============================] - 18s 3ms/sample - loss: 1.7415 - acc: 0.5310 - val_loss: 1.7355 - val_acc: 0.5311\n",
      "Epoch 26/100\n",
      "6000/6000 [==============================] - 19s 3ms/sample - loss: 1.7202 - acc: 0.5336 - val_loss: 1.7140 - val_acc: 0.5317\n",
      "Epoch 27/100\n",
      "6000/6000 [==============================] - 21s 3ms/sample - loss: 1.6990 - acc: 0.5349 - val_loss: 1.6930 - val_acc: 0.5340\n",
      "Epoch 28/100\n",
      "6000/6000 [==============================] - 20s 3ms/sample - loss: 1.6781 - acc: 0.5359 - val_loss: 1.6722 - val_acc: 0.5343\n",
      "Epoch 29/100\n",
      "6000/6000 [==============================] - 17s 3ms/sample - loss: 1.6578 - acc: 0.5371 - val_loss: 1.6524 - val_acc: 0.5363\n",
      "Epoch 30/100\n",
      "6000/6000 [==============================] - 17s 3ms/sample - loss: 1.6387 - acc: 0.5404 - val_loss: 1.6339 - val_acc: 0.5413\n",
      "Epoch 31/100\n",
      "6000/6000 [==============================] - 17s 3ms/sample - loss: 1.6208 - acc: 0.5453 - val_loss: 1.6168 - val_acc: 0.5461\n",
      "Epoch 32/100\n",
      "6000/6000 [==============================] - 17s 3ms/sample - loss: 1.6044 - acc: 0.5497 - val_loss: 1.6011 - val_acc: 0.5494\n",
      "Epoch 33/100\n",
      "6000/6000 [==============================] - 17s 3ms/sample - loss: 1.5893 - acc: 0.5536 - val_loss: 1.5866 - val_acc: 0.5534\n",
      "Epoch 34/100\n",
      "6000/6000 [==============================] - 17s 3ms/sample - loss: 1.5755 - acc: 0.5560 - val_loss: 1.5734 - val_acc: 0.5548\n",
      "Epoch 35/100\n",
      "6000/6000 [==============================] - 17s 3ms/sample - loss: 1.5629 - acc: 0.5571 - val_loss: 1.5614 - val_acc: 0.5558\n",
      "Epoch 36/100\n",
      "6000/6000 [==============================] - 17s 3ms/sample - loss: 1.5515 - acc: 0.5590 - val_loss: 1.5507 - val_acc: 0.5583\n",
      "Epoch 37/100\n",
      "6000/6000 [==============================] - 17s 3ms/sample - loss: 1.5414 - acc: 0.5606 - val_loss: 1.5413 - val_acc: 0.5594\n",
      "Epoch 38/100\n",
      "6000/6000 [==============================] - 17s 3ms/sample - loss: 1.5325 - acc: 0.5614 - val_loss: 1.5329 - val_acc: 0.5600\n",
      "Epoch 39/100\n",
      "6000/6000 [==============================] - 17s 3ms/sample - loss: 1.5247 - acc: 0.5620 - val_loss: 1.5256 - val_acc: 0.5605\n",
      "Epoch 40/100\n",
      "6000/6000 [==============================] - 17s 3ms/sample - loss: 1.5177 - acc: 0.5624 - val_loss: 1.5191 - val_acc: 0.5607\n",
      "Epoch 41/100\n",
      "6000/6000 [==============================] - 17s 3ms/sample - loss: 1.5116 - acc: 0.5627 - val_loss: 1.5133 - val_acc: 0.5610\n",
      "Epoch 42/100\n",
      "6000/6000 [==============================] - 17s 3ms/sample - loss: 1.5060 - acc: 0.5629 - val_loss: 1.5080 - val_acc: 0.5612\n",
      "Epoch 43/100\n",
      "6000/6000 [==============================] - 17s 3ms/sample - loss: 1.5010 - acc: 0.5631 - val_loss: 1.5033 - val_acc: 0.5614\n",
      "Epoch 44/100\n",
      "6000/6000 [==============================] - 17s 3ms/sample - loss: 1.4965 - acc: 0.5632 - val_loss: 1.4990 - val_acc: 0.5615\n",
      "Epoch 45/100\n",
      "6000/6000 [==============================] - 17s 3ms/sample - loss: 1.4924 - acc: 0.5633 - val_loss: 1.4950 - val_acc: 0.5616\n",
      "Epoch 46/100\n",
      "6000/6000 [==============================] - 17s 3ms/sample - loss: 1.4886 - acc: 0.5634 - val_loss: 1.4914 - val_acc: 0.5617\n",
      "Epoch 47/100\n",
      "6000/6000 [==============================] - 17s 3ms/sample - loss: 1.4851 - acc: 0.5635 - val_loss: 1.4880 - val_acc: 0.5617\n",
      "Epoch 48/100\n",
      "6000/6000 [==============================] - 17s 3ms/sample - loss: 1.4819 - acc: 0.5635 - val_loss: 1.4849 - val_acc: 0.5618\n",
      "Epoch 49/100\n",
      "6000/6000 [==============================] - 17s 3ms/sample - loss: 1.4788 - acc: 0.5636 - val_loss: 1.4819 - val_acc: 0.5618\n",
      "Epoch 50/100\n",
      "6000/6000 [==============================] - 17s 3ms/sample - loss: 1.4759 - acc: 0.5636 - val_loss: 1.4790 - val_acc: 0.5618\n",
      "Epoch 51/100\n",
      "6000/6000 [==============================] - 17s 3ms/sample - loss: 1.4731 - acc: 0.5637 - val_loss: 1.4764 - val_acc: 0.5621\n",
      "Epoch 52/100\n",
      "6000/6000 [==============================] - 17s 3ms/sample - loss: 1.4705 - acc: 0.5638 - val_loss: 1.4738 - val_acc: 0.5621\n",
      "Epoch 53/100\n",
      "6000/6000 [==============================] - 18s 3ms/sample - loss: 1.4680 - acc: 0.5640 - val_loss: 1.4714 - val_acc: 0.5623\n",
      "Epoch 54/100\n",
      "6000/6000 [==============================] - 18s 3ms/sample - loss: 1.4656 - acc: 0.5642 - val_loss: 1.4690 - val_acc: 0.5627\n",
      "Epoch 55/100\n",
      "6000/6000 [==============================] - 17s 3ms/sample - loss: 1.4633 - acc: 0.5645 - val_loss: 1.4668 - val_acc: 0.5628\n",
      "Epoch 56/100\n",
      "6000/6000 [==============================] - 17s 3ms/sample - loss: 1.4611 - acc: 0.5647 - val_loss: 1.4646 - val_acc: 0.5631\n",
      "Epoch 57/100\n",
      "6000/6000 [==============================] - 17s 3ms/sample - loss: 1.4590 - acc: 0.5649 - val_loss: 1.4626 - val_acc: 0.5633\n",
      "Epoch 58/100\n",
      "6000/6000 [==============================] - 17s 3ms/sample - loss: 1.4570 - acc: 0.5651 - val_loss: 1.4606 - val_acc: 0.5635\n",
      "Epoch 59/100\n"
     ]
    },
    {
     "name": "stdout",
     "output_type": "stream",
     "text": [
      "6000/6000 [==============================] - 17s 3ms/sample - loss: 1.4551 - acc: 0.5654 - val_loss: 1.4587 - val_acc: 0.5637\n",
      "Epoch 60/100\n",
      "6000/6000 [==============================] - 17s 3ms/sample - loss: 1.4532 - acc: 0.5656 - val_loss: 1.4569 - val_acc: 0.5640\n",
      "Epoch 61/100\n",
      "6000/6000 [==============================] - 17s 3ms/sample - loss: 1.4515 - acc: 0.5658 - val_loss: 1.4552 - val_acc: 0.5641\n",
      "Epoch 62/100\n",
      "6000/6000 [==============================] - 17s 3ms/sample - loss: 1.4498 - acc: 0.5661 - val_loss: 1.4535 - val_acc: 0.5646\n",
      "Epoch 63/100\n",
      "6000/6000 [==============================] - 17s 3ms/sample - loss: 1.4481 - acc: 0.5663 - val_loss: 1.4519 - val_acc: 0.5647\n",
      "Epoch 64/100\n",
      "6000/6000 [==============================] - 17s 3ms/sample - loss: 1.4466 - acc: 0.5665 - val_loss: 1.4504 - val_acc: 0.5652\n",
      "Epoch 65/100\n",
      "6000/6000 [==============================] - 17s 3ms/sample - loss: 1.4451 - acc: 0.5684 - val_loss: 1.4490 - val_acc: 0.5673\n",
      "Epoch 66/100\n",
      "6000/6000 [==============================] - 17s 3ms/sample - loss: 1.4437 - acc: 0.5689 - val_loss: 1.4476 - val_acc: 0.5677\n",
      "Epoch 67/100\n",
      "6000/6000 [==============================] - 17s 3ms/sample - loss: 1.4424 - acc: 0.5693 - val_loss: 1.4463 - val_acc: 0.5677\n",
      "Epoch 68/100\n",
      "6000/6000 [==============================] - 17s 3ms/sample - loss: 1.4411 - acc: 0.5695 - val_loss: 1.4450 - val_acc: 0.5680\n",
      "Epoch 69/100\n",
      "6000/6000 [==============================] - 17s 3ms/sample - loss: 1.4399 - acc: 0.5697 - val_loss: 1.4438 - val_acc: 0.5683\n",
      "Epoch 70/100\n",
      "6000/6000 [==============================] - 17s 3ms/sample - loss: 1.4387 - acc: 0.5700 - val_loss: 1.4426 - val_acc: 0.5685\n",
      "Epoch 71/100\n",
      "6000/6000 [==============================] - 17s 3ms/sample - loss: 1.4375 - acc: 0.5702 - val_loss: 1.4415 - val_acc: 0.5687\n",
      "Epoch 72/100\n",
      "6000/6000 [==============================] - 17s 3ms/sample - loss: 1.4364 - acc: 0.5705 - val_loss: 1.4404 - val_acc: 0.5689\n",
      "Epoch 73/100\n",
      "6000/6000 [==============================] - 17s 3ms/sample - loss: 1.4353 - acc: 0.5707 - val_loss: 1.4394 - val_acc: 0.5691\n",
      "Epoch 74/100\n",
      "6000/6000 [==============================] - 17s 3ms/sample - loss: 1.4343 - acc: 0.5710 - val_loss: 1.4383 - val_acc: 0.5693\n",
      "Epoch 75/100\n",
      "6000/6000 [==============================] - 17s 3ms/sample - loss: 1.4333 - acc: 0.5712 - val_loss: 1.4374 - val_acc: 0.5697\n",
      "Epoch 76/100\n",
      "6000/6000 [==============================] - 17s 3ms/sample - loss: 1.4324 - acc: 0.5714 - val_loss: 1.4365 - val_acc: 0.5698\n",
      "Epoch 77/100\n",
      "6000/6000 [==============================] - 17s 3ms/sample - loss: 1.4315 - acc: 0.5717 - val_loss: 1.4356 - val_acc: 0.5700\n",
      "Epoch 78/100\n",
      "6000/6000 [==============================] - 17s 3ms/sample - loss: 1.4306 - acc: 0.5719 - val_loss: 1.4348 - val_acc: 0.5702\n",
      "Epoch 79/100\n",
      "6000/6000 [==============================] - 17s 3ms/sample - loss: 1.4298 - acc: 0.5721 - val_loss: 1.4339 - val_acc: 0.5704\n",
      "Epoch 80/100\n",
      "6000/6000 [==============================] - 17s 3ms/sample - loss: 1.4289 - acc: 0.5723 - val_loss: 1.4331 - val_acc: 0.5706\n",
      "Epoch 81/100\n",
      "6000/6000 [==============================] - 17s 3ms/sample - loss: 1.4281 - acc: 0.5724 - val_loss: 1.4323 - val_acc: 0.5706\n",
      "Epoch 82/100\n",
      "6000/6000 [==============================] - 17s 3ms/sample - loss: 1.4273 - acc: 0.5726 - val_loss: 1.4315 - val_acc: 0.5709\n",
      "Epoch 83/100\n",
      "6000/6000 [==============================] - 17s 3ms/sample - loss: 1.4266 - acc: 0.5727 - val_loss: 1.4307 - val_acc: 0.5710\n",
      "Epoch 84/100\n",
      "6000/6000 [==============================] - 17s 3ms/sample - loss: 1.4258 - acc: 0.5729 - val_loss: 1.4300 - val_acc: 0.5712\n",
      "Epoch 85/100\n",
      "6000/6000 [==============================] - 17s 3ms/sample - loss: 1.4251 - acc: 0.5730 - val_loss: 1.4293 - val_acc: 0.5715\n",
      "Epoch 86/100\n",
      "6000/6000 [==============================] - 17s 3ms/sample - loss: 1.4244 - acc: 0.5732 - val_loss: 1.4286 - val_acc: 0.5715\n",
      "Epoch 87/100\n",
      "6000/6000 [==============================] - 17s 3ms/sample - loss: 1.4237 - acc: 0.5733 - val_loss: 1.4279 - val_acc: 0.5717\n",
      "Epoch 88/100\n",
      "6000/6000 [==============================] - 17s 3ms/sample - loss: 1.4230 - acc: 0.5734 - val_loss: 1.4272 - val_acc: 0.5718\n",
      "Epoch 89/100\n",
      "6000/6000 [==============================] - 17s 3ms/sample - loss: 1.4223 - acc: 0.5736 - val_loss: 1.4265 - val_acc: 0.5720\n",
      "Epoch 90/100\n",
      "6000/6000 [==============================] - 18s 3ms/sample - loss: 1.4216 - acc: 0.5737 - val_loss: 1.4258 - val_acc: 0.5721\n",
      "Epoch 91/100\n",
      "6000/6000 [==============================] - 16s 3ms/sample - loss: 1.4209 - acc: 0.5738 - val_loss: 1.4252 - val_acc: 0.5721\n",
      "Epoch 92/100\n",
      "6000/6000 [==============================] - 16s 3ms/sample - loss: 1.4203 - acc: 0.5739 - val_loss: 1.4245 - val_acc: 0.5722\n",
      "Epoch 93/100\n",
      "6000/6000 [==============================] - 17s 3ms/sample - loss: 1.4196 - acc: 0.5740 - val_loss: 1.4239 - val_acc: 0.5723\n",
      "Epoch 94/100\n",
      "6000/6000 [==============================] - 17s 3ms/sample - loss: 1.4190 - acc: 0.5741 - val_loss: 1.4233 - val_acc: 0.5725\n",
      "Epoch 95/100\n",
      "6000/6000 [==============================] - 16s 3ms/sample - loss: 1.4184 - acc: 0.5742 - val_loss: 1.4228 - val_acc: 0.5725\n",
      "Epoch 96/100\n",
      "6000/6000 [==============================] - 17s 3ms/sample - loss: 1.4178 - acc: 0.5743 - val_loss: 1.4221 - val_acc: 0.5726\n",
      "Epoch 97/100\n",
      "6000/6000 [==============================] - 17s 3ms/sample - loss: 1.4172 - acc: 0.5744 - val_loss: 1.4215 - val_acc: 0.5727\n",
      "Epoch 98/100\n",
      "6000/6000 [==============================] - 16s 3ms/sample - loss: 1.4166 - acc: 0.5745 - val_loss: 1.4209 - val_acc: 0.5727\n",
      "Epoch 99/100\n",
      "6000/6000 [==============================] - 17s 3ms/sample - loss: 1.4160 - acc: 0.5746 - val_loss: 1.4204 - val_acc: 0.5729\n",
      "Epoch 100/100\n",
      "6000/6000 [==============================] - 16s 3ms/sample - loss: 1.4154 - acc: 0.5747 - val_loss: 1.4198 - val_acc: 0.5730\n"
     ]
    }
   ],
   "source": [
    "NUM_EPOCHS = 100\n",
    "RNN_MODEL_SOFT_FIT = mf.make_rnn_training_model(embedding_matrix=EMBEDDING_MATRIX,\n",
    "                            softmax_weights=SOFTMAX_WEIGHTS,\n",
    "                            batch_size=BATCH_SIZE,\n",
    "                            num_steps=NUM_STEPS,\n",
    "                            train_embedding=False,\n",
    "                            train_softmax=True)\n",
    "\n",
    "RNN_S_HIST = RNN_MODEL_SOFT_FIT.fit(X_train,\n",
    "                         y_train,\n",
    "                         epochs=NUM_EPOCHS,\n",
    "                         batch_size=BATCH_SIZE,\n",
    "                         validation_data=[X_valid, y_valid],)"
   ]
  },
  {
   "cell_type": "code",
   "execution_count": 19,
   "metadata": {},
   "outputs": [
    {
     "data": {
      "image/png": "[encoded data removed]",
      "text/plain": [
       "<Figure size 432x288 with 2 Axes>"
      ]
     },
     "metadata": {
      "needs_background": "light"
     },
     "output_type": "display_data"
    }
   ],
   "source": [
    "plot_training_summary(RNN_S_HIST)"
   ]
  },
  {
   "cell_type": "markdown",
   "metadata": {},
   "source": [
    "#### RNN evaluation\n",
    "Roughly 35% of the plays are actually just padding at the end of the game. The RNN probably gets those right, and the Markov chain definitely does. We should consider the accuracy excluding these predictions when assessing the quality of the model. This can be done by recalculating the accuracy assuming all of the pad plays were correctly predicted. The result is a lower bound on the accuracy of the RNN with respect to in-game plays. We find an adjusted **validation accuracy of .3303 for the RNN model**, which drastically outpreforms the **.1902 validation accuracy of the baseline model**."
   ]
  },
  {
   "cell_type": "code",
   "execution_count": 20,
   "metadata": {},
   "outputs": [
    {
     "name": "stdout",
     "output_type": "stream",
     "text": [
      "RNN adjusted validation accuracy = 0.3303\n",
      "1st order markov chain adjusted validation accuracy = 0.1924\n"
     ]
    }
   ],
   "source": [
    "num_games, num_plays = CORPUS_IND.shape\n",
    "pad_percent = WV.vocab[str({'Type':'Pad'})].count/(num_games*num_plays)\n",
    "valid_percent = 1-pad_percent\n",
    "RNN_val_acc = .5780 #best for a longer training session()\n",
    "MC1_val_acc = .4911 #see baseline_models.py\n",
    "RNN_adj_acc = np.round((RNN_val_acc-pad_percent)/valid_percent,4)\n",
    "MC1_adj_acc = np.round((MC1_val_acc-pad_percent)/valid_percent,4)\n",
    "print(f'RNN adjusted validation accuracy = {RNN_adj_acc}')\n",
    "print(f'1st order markov chain adjusted validation accuracy = {MC1_adj_acc}')"
   ]
  },
  {
   "cell_type": "markdown",
   "metadata": {},
   "source": [
    "#### Saving the models\n",
    "We'll have to save the trained model so we can use it on the website. \n",
    "\n",
    "```python\n",
    "model_json = model.to_json()\n",
    "```\n",
    "creates a json of the model architecture in ```model_json```\n",
    " \n",
    "```python \n",
    "with open(\"model.json\", \"w\") as json_file:\n",
    "    json_file.write(model_json)\n",
    "```\n",
    "writes the json to the file ```model.json```\n",
    "\n",
    "```python\n",
    "model.save_weights(\"model.h5\")\n",
    "```\n",
    "saves the weights of ```model``` in the file ```model.h5```"
   ]
  },
  {
   "cell_type": "code",
   "execution_count": 21,
   "metadata": {},
   "outputs": [],
   "source": [
    "model_json = RNN_MODEL_SOFT_FIT.to_json()\n",
    "with open(f\"RNN_MODEL_SOFT_FIT.json\", \"w\") as json_file:\n",
    "    json_file.write(model_json)\n",
    "RNN_MODEL_SOFT_FIT.save_weights(f\"RNN_MODEL_SOFT_FIT.h5\")"
   ]
  },
  {
   "cell_type": "markdown",
   "metadata": {},
   "source": [
    "#### Loading the models\n",
    "The model architecture and weights can be reloaded form these files:\n",
    "```python\n",
    "with open(\"model.json\", \"rb\") as json_file:\n",
    "    loaded_model_json = json_file.read()\n",
    "```\n",
    "loads the architecture in json form the file, \n",
    "\n",
    "```python\n",
    "loaded_model = model_from_json(loaded_model_json)\n",
    "```\n",
    "creates the model (requires ```from tensorflow.keras.models import model_from_json```),\n",
    "\n",
    "```python\n",
    "loaded_model.load_weights(\"model.h5\")\n",
    "```\n",
    "loads the weights.\n",
    "\n",
    "In reality, we will want a new model with a different input batch size, ```(1, None)```, for (```num_games, time_step```) for our predictions. This is done with the function ```make_rnn_predicting_model(hdf5_file, cat_dim, emb_dim)```, which takes a path to a weights file, and the dimensionality of the categorical and embedded spaces as arguments."
   ]
  },
  {
   "cell_type": "markdown",
   "metadata": {},
   "source": [
    "# Scratch"
   ]
  },
  {
   "cell_type": "code",
   "execution_count": null,
   "metadata": {},
   "outputs": [],
   "source": [
    "from tensorflow.keras.models import model_from_json\n",
    "with open(\"RNN_MODEL_SOFT_FIT.json\", \"r\") as json_file:\n",
    "    loaded_model_json = json_file.read()\n",
    "loaded_model = model_from_json(loaded_model_json)"
   ]
  },
  {
   "cell_type": "code",
   "execution_count": null,
   "metadata": {},
   "outputs": [],
   "source": [
    "loaded_model._layers[0].batch_size = None"
   ]
  },
  {
   "cell_type": "code",
   "execution_count": null,
   "metadata": {},
   "outputs": [],
   "source": [
    "cat_dim, emb_dim = EMBEDDING_MATRIX.shape\n",
    "hdf5_file = f\"RNN_MODEL_SOFT_FIT.h5\"\n",
    "RNN_PRED = mf.make_rnn_predicting_model(hdf5_file, cat_dim, emb_dim)"
   ]
  },
  {
   "cell_type": "code",
   "execution_count": null,
   "metadata": {},
   "outputs": [],
   "source": [
    "from tensorflow.keras.models import model_from_json\n",
    "def load_model_json(filename):\n",
    "    with open(filename, \"r\") as json_file:\n",
    "        loaded_model_json = json_file.read()\n",
    "    return model_from_json(loaded_model_json)\n",
    "\n",
    "def save_model_json(model, filename):\n",
    "    model_json = model.to_json()\n",
    "    with open(filename, \"w\") as json_file:\n",
    "        json_file.write(model_json)\n",
    "        \n",
    "RNN_MODEL_SOFT_FIT.save_weights(f\"RNN_MODEL_SOFT_FIT.h5\")"
   ]
  },
  {
   "cell_type": "code",
   "execution_count": null,
   "metadata": {},
   "outputs": [],
   "source": [
    "filename = 'RNN_PRED.json'\n",
    "save_model_json(RNN_PRED, filename)\n",
    "RNN_PRED.save_weights('RNN_PRED.h5')\n",
    "\n",
    "test_mod = load_model_json(filename)\n",
    "test_mod.load_weights(\"RNN_PRED.h5\")\n",
    "test_mod.predict([0, 0, 0])"
   ]
  },
  {
   "cell_type": "code",
   "execution_count": null,
   "metadata": {
    "scrolled": true
   },
   "outputs": [],
   "source": [
    "GAME = 3\n",
    "START = 0\n",
    "STOP = 10\n",
    "INPUT_PLAYS = CORPUS_IND[GAME,START:STOP]\n",
    "ACTUAL_NEXT = CORPUS_IND[GAME, (START+1):(STOP+1)]\n",
    "RNN_PRED.reset_states()\n",
    "PRED = RNN_PRED.predict(INPUT_PLAYS)[:,0]\n",
    "print(RNN_PRED.predict(INPUT_PLAYS).shape)\n",
    "MAX_PROB_NEXT = np.argmax(PRED, axis=1)[:]\n",
    "ACTUAL_PROB_NEXT = [np.round(PRED[i, actual_ind],2) for i, actual_ind in enumerate(ACTUAL_NEXT)]\n",
    "PRED.shape"
   ]
  },
  {
   "cell_type": "code",
   "execution_count": null,
   "metadata": {},
   "outputs": [],
   "source": [
    "print(INPUT_PLAYS)\n",
    "print(ACTUAL_NEXT)\n",
    "print(MAX_PROB_NEXT)\n",
    "print(ACTUAL_PROB_NEXT)"
   ]
  },
  {
   "cell_type": "code",
   "execution_count": null,
   "metadata": {},
   "outputs": [],
   "source": [
    "for i, play, in enumerate(WV.index2word):\n",
    "    print(i, play)\n",
    "WV.index2word[12]"
   ]
  },
  {
   "cell_type": "markdown",
   "metadata": {},
   "source": [
    "# Scratch"
   ]
  },
  {
   "cell_type": "code",
   "execution_count": null,
   "metadata": {},
   "outputs": [],
   "source": [
    "import keras.utils.vis_utils as vsutil"
   ]
  },
  {
   "cell_type": "code",
   "execution_count": null,
   "metadata": {},
   "outputs": [],
   "source": [
    "print(RNN_PRED.summary())"
   ]
  },
  {
   "cell_type": "code",
   "execution_count": null,
   "metadata": {},
   "outputs": [],
   "source": [
    "import sys\n",
    "print(sys.executable)"
   ]
  },
  {
   "cell_type": "code",
   "execution_count": null,
   "metadata": {},
   "outputs": [],
   "source": [
    "!/Users/tiwariku/environments/shot2vec/bin/python3 -m pip install pydot"
   ]
  },
  {
   "cell_type": "code",
   "execution_count": null,
   "metadata": {},
   "outputs": [],
   "source": [
    "vsutil.model_to_dot(RNN_PRED)"
   ]
  },
  {
   "cell_type": "code",
   "execution_count": null,
   "metadata": {},
   "outputs": [],
   "source": [
    "pad_percent"
   ]
  },
  {
   "cell_type": "code",
   "execution_count": null,
   "metadata": {},
   "outputs": [],
   "source": [
    "x = np.linspace(-10,10,1000)\n",
    "y = np.sign(x)*np.log(np.abs(x+np.sign(x)))\n",
    "plt.plot(x,y)"
   ]
  },
  {
   "cell_type": "code",
   "execution_count": null,
   "metadata": {},
   "outputs": [],
   "source": [
    "from gensim.models import Word2Vec\n",
    "from gensim.models import KeyedVectors\n",
    "from tensorflow.keras.utils import to_categorical as one_hot\n",
    "import numpy as np\n",
    "from sklearn.model_selection import train_test_split\n",
    "\n",
    "def wv_index_corpus(corpus, wv):\n",
    "    \"\"\"\n",
    "    in  corpus, a corpus with plays in string-serialized format\n",
    "            and \n",
    "        wv, the assocated wordvector object\n",
    "        \n",
    "    out: corpus_index, the corpus in index format\n",
    "    \"\"\"\n",
    "    corpus_index = np.zeros((len(corpus), len(corpus[0])), dtype=np.int32)\n",
    "    for gi, game in enumerate(corpus):\n",
    "        for pi, play in enumerate(game):\n",
    "            corpus_index[gi, pi] =  wv.vocab[play].index\n",
    "    return corpus_index\n",
    "\n",
    "def make_embedding(name, \n",
    "                   corpus, \n",
    "                   embedding_size, \n",
    "                   window=5, \n",
    "                   min_count=1, \n",
    "                   workers=4):\n",
    "    \"\"\"\n",
    "    Trains a gensim word2vec model on the corpus, \n",
    "        saves the indexed corpus and wordvectors\n",
    "    in:\n",
    "        name, the filename associated with this embedding scheme\n",
    "        corpus, the corpus to train on (in serialized play-dict format)\n",
    "        embedding_size, the size of the embedded representation\n",
    "        window=5, the max skip-gram for the word2vec\n",
    "        min_count=1, min count for word2vec\n",
    "        workers=4, number of workers to use by gensim\n",
    "    \"\"\"\n",
    "    model = Word2Vec(corpus,\n",
    "                     size=embedding_size,\n",
    "                     window=window,\n",
    "                     min_count=min_count,\n",
    "                     workers=workers)\n",
    "    model.wv.save(f'{name}.wv')\n",
    "    corpus_index = wv_index_corpus(corpus, model.wv)\n",
    "    np.save(name, corpus_index)"
   ]
  },
  {
   "cell_type": "code",
   "execution_count": null,
   "metadata": {},
   "outputs": [],
   "source": [
    "from tensorflow import keras\n",
    "from tensorflow.keras.layers import Embedding\n",
    "from tensorflow.keras.layers import Dense\n",
    "from tensorflow.keras.layers import TimeDistributed\n",
    "def make_decoder_model(embedding_matrix):\n",
    "    \"\"\"\n",
    "    makes a compiled variational autoencoder model with \n",
    "    un-trainable embedding layer whose weights are specified by...\n",
    "    in:\n",
    "        embedding matrix\n",
    "    \"\"\"\n",
    "    cat_dim, emb_dim = embedding_matrix.shape\n",
    "    embed = Embedding(cat_dim,\n",
    "                  emb_dim,\n",
    "                  #batch_input_shape = (batch_size, num_steps),\n",
    "                  weights=[embedding_matrix],\n",
    "                  trainable=False)\n",
    "    old_softy = TimeDistributed(Dense(cat_dim, \n",
    "                                      activation='softmax'))\n",
    "    model = keras.models.Sequential()\n",
    "    model.add(embed)\n",
    "    model.add(old_softy)\n",
    "    model.compile(optimizer='adam',\n",
    "                  loss = 'categorical_crossentropy',\n",
    "                  metrics=['accuracy'])\n",
    "    return model\n",
    "\n",
    "def fit_softmax(data, num_epochs, batch_size, embedding_matrix):\n",
    "    \"\"\"\n",
    "    Unused, this should probably just be in the main script\n",
    "    \"\"\"\n",
    "    X_train, X_valid, y_train, y_valid = data\n",
    "    auto_enc = make_decoder_model(EMBEDDING_MATRIX)\n",
    "    auto_enc_hist = auto_enc.fit(X_train,\n",
    "                             y_train,\n",
    "                             epochs=num_epochs,\n",
    "                             batch_size=batch_size,\n",
    "                             validation_data=[X_valid, y_valid],\n",
    "                            ) \n",
    "    return auto_enc, auto_enc_hist\n",
    "\n"
   ]
  },
  {
   "cell_type": "code",
   "execution_count": null,
   "metadata": {},
   "outputs": [],
   "source": [
    "from tensorflow.keras.layers import LSTM\n",
    "def make_rnn_training_model(embedding_matrix,\n",
    "                            softmax_weights,\n",
    "                            batch_size,\n",
    "                            num_steps,\n",
    "                            train_embedding=True,\n",
    "                            train_softmax=True,):\n",
    "    \"\"\"\n",
    "    returns a compiled RNN model with two lstm layers of \n",
    "    size 'embeddeding_size'\n",
    "    \"\"\"\n",
    "    cat_dim, emb_dim = embedding_matrix.shape\n",
    "    layers = []\n",
    "    embed = Embedding(cat_dim,\n",
    "                  emb_dim,\n",
    "                  batch_input_shape = (batch_size, num_steps),\n",
    "                  weights=[embedding_matrix],\n",
    "                  trainable=train_embedding)\n",
    "    lstm1 = LSTM(emb_dim,\n",
    "                 #batch_input_shape = (batch_size, num_steps, embedded_dim),\n",
    "                 stateful=True,\n",
    "                 return_sequences=True,\n",
    "                )\n",
    "    lstm2 = LSTM(emb_dim,\n",
    "                 #batch_input_shape = (batch_size, num_steps, embedded_dim),\n",
    "                 stateful=True,\n",
    "                 return_sequences=True,\n",
    "                )\n",
    "    old_softy = TimeDistributed(Dense(cat_dim, \n",
    "                                      weights=softmax_weights,\n",
    "                                      trainable=train_softmax,\n",
    "                                      activation='softmax'))\n",
    "    model = keras.models.Sequential()\n",
    "    model.add(embed)\n",
    "    model.add(lstm1)\n",
    "    model.add(lstm2)\n",
    "    model.add(old_softy)\n",
    "    model.compile(optimizer='adam',\n",
    "                  loss = 'categorical_crossentropy',\n",
    "                  metrics=['accuracy'])\n",
    "    return model \n",
    "\n",
    "def make_rnn_predicting_model(hdf5_file, cat_dim, emb_dim):\n",
    "    \"\"\"\n",
    "    returns a compiled RNN model with two lstm layers of \n",
    "    size 'embeddeding_size'\n",
    "    \"\"\"\n",
    "    #cat_dim, emb_dim = embedding_matrix.shape\n",
    "    layers = []\n",
    "    embed = Embedding(cat_dim,\n",
    "                  emb_dim,\n",
    "                  batch_input_shape = (1, None),\n",
    "                  #weights=[embedding_matrix],\n",
    "                  #trainable=False\n",
    "                     )\n",
    "    lstm1 = LSTM(emb_dim,\n",
    "                 #batch_input_shape = (batch_size, num_steps, embedded_dim),\n",
    "                 stateful=True,\n",
    "                 return_sequences=True,\n",
    "                )\n",
    "    lstm2 = LSTM(emb_dim,\n",
    "                 #batch_input_shape = (batch_size, num_steps, embedded_dim),\n",
    "                 stateful=True,\n",
    "                 return_sequences=True,\n",
    "                )\n",
    "    old_softy = TimeDistributed(Dense(cat_dim, \n",
    "                                      #weights=softmax_weights,\n",
    "                                      #trainable=train_softmax,\n",
    "                                      activation='softmax'))\n",
    "    model = keras.models.Sequential()\n",
    "    model.add(embed)\n",
    "    model.add(lstm1)\n",
    "    model.add(lstm2)\n",
    "    model.add(old_softy)\n",
    "    model.load_weights(hdf5_file)\n",
    "    model.compile(optimizer='adam',\n",
    "                  loss = 'categorical_crossentropy',\n",
    "                  metrics=['accuracy'])\n",
    "    return model "
   ]
  },
  {
   "cell_type": "code",
   "execution_count": 9,
   "metadata": {},
   "outputs": [],
   "source": [
    "import matplotlib.pyplot as plt\n",
    "def plot_training_summary(history):\n",
    "    \"\"\"\n",
    "    Plots the validation and training accuracy and loss\n",
    "    of a keras history\n",
    "    \"\"\"\n",
    "    fig = plt.figure()\n",
    "    ax = fig.add_subplot(2,1,1)\n",
    "    ax.semilogy(history.history['loss'], '.', label='Train')\n",
    "    ax.semilogy(history.history['val_loss'],'.',  label='Val')\n",
    "    ax.set_ylabel('Loss')\n",
    "    ax = fig.add_subplot(2,1,2)\n",
    "    ax.semilogy(1-np.array(history.history['acc']), '.', label='Train')\n",
    "    ax.semilogy(1-np.array(history.history['val_acc']),'.',  label='Val')\n",
    "    ax.set_ylabel('1-Accuracy')\n",
    "    ax.set_xlabel('epoch')"
   ]
  },
  {
   "cell_type": "code",
   "execution_count": null,
   "metadata": {},
   "outputs": [],
   "source": [
    "from tensorflow.keras.models import load_model"
   ]
  },
  {
   "cell_type": "code",
   "execution_count": null,
   "metadata": {},
   "outputs": [],
   "source": [
    "load_model(\"RNN_MODEL_SOFT_FIT.h5\")"
   ]
  },
  {
   "cell_type": "code",
   "execution_count": null,
   "metadata": {},
   "outputs": [],
   "source": [
    "!ls"
   ]
  },
  {
   "cell_type": "code",
   "execution_count": null,
   "metadata": {},
   "outputs": [],
   "source": []
  }
 ],
 "metadata": {
  "kernelspec": {
   "display_name": "Python 3",
   "language": "python",
   "name": "python3"
  },
  "language_info": {
   "codemirror_mode": {
    "name": "ipython",
    "version": 3
   },
   "file_extension": ".py",
   "mimetype": "text/x-python",
   "name": "python",
   "nbconvert_exporter": "python",
   "pygments_lexer": "ipython3",
   "version": "3.7.2"
  }
 },
 "nbformat": 4,
 "nbformat_minor": 2
}
